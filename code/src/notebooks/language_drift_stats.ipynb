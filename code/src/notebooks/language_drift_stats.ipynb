{
 "cells": [
  {
   "cell_type": "markdown",
   "id": "2dfb14f4",
   "metadata": {},
   "source": [
    "## Hypotheses testing for language drift metrics\n",
    "\n",
    "This notebook computed statistical support for the language drift hypotheses formally addressed in the thesis."
   ]
  },
  {
   "cell_type": "code",
   "execution_count": 1,
   "id": "3cea3c47",
   "metadata": {},
   "outputs": [],
   "source": [
    "import scipy\n",
    "import pandas as pd\n",
    "import numpy as np\n",
    "import torch"
   ]
  },
  {
   "cell_type": "code",
   "execution_count": 2,
   "id": "67f3a9fb",
   "metadata": {},
   "outputs": [],
   "source": [
    "from scipy import stats"
   ]
  },
  {
   "cell_type": "code",
   "execution_count": 8,
   "id": "f12843a8",
   "metadata": {},
   "outputs": [
    {
     "data": {
      "text/plain": [
       "Ttest_indResult(statistic=2.4486440699193386, pvalue=0.07054821221794029)"
      ]
     },
     "execution_count": 8,
     "metadata": {},
     "output_type": "execute_result"
    }
   ],
   "source": [
    "# t test for H 9 (structural drift differences of speaker vs baseline)\n",
    "# group 1: ms coco\n",
    "# group 2: 3dshapes\n",
    " # positive difference values mean speaker < baseline, negative: speaker > baseline\n",
    "h9_coco_diffs = np.array([2.824, 1.495, 0.918])\n",
    "h9_3d_diffs = np.array([0.34, 0.603, -0.203])\n",
    "\n",
    "stats.ttest_ind(h9_coco_diffs, h9_3d_diffs, equal_var=True)\n",
    "# TODO same thing for semantic drift"
   ]
  },
  {
   "cell_type": "code",
   "execution_count": 24,
   "id": "fc533996",
   "metadata": {},
   "outputs": [
    {
     "name": "stdout",
     "output_type": "stream",
     "text": [
      "H5 discrete  Ttest_indResult(statistic=2.4028378744947205, pvalue=0.053089220787342836)\n",
      "H5 continuous  Ttest_indResult(statistic=0.8763101672569933, pvalue=0.4303348354465085)\n"
     ]
    }
   ],
   "source": [
    "# H 5 \n",
    "# positive difference means overlap increasing relative to baseline, \n",
    "# negative - decreasing relative to baseline \n",
    "# discrete values only -- TODO add cont values\n",
    "\n",
    "h5_random_overlaps = np.array([0.003, -0.181, 0.007])\n",
    "h5_similar_overlaps = np.array([-1.039, -2.553, -3.357, -1.472, -0.394])\n",
    "\n",
    "print(\"H5 discrete \", stats.ttest_ind(h5_random_overlaps, h5_similar_overlaps, equal_var=True))\n",
    "# random pairs (coco, 3 d shapes, 3d short) vs similar pairs (coco, 3dexg, 3dshort)\n",
    "print(\"H5 continuous \", stats.ttest_ind(np.array([0.0008, -0.003, -0.001]), np.array([-0.004, -0.01125, 0.00175]), equal_var=True))"
   ]
  },
  {
   "cell_type": "code",
   "execution_count": 17,
   "id": "ba8eb732",
   "metadata": {},
   "outputs": [
    {
     "name": "stdout",
     "output_type": "stream",
     "text": [
      "H1 structural COCO random  Ttest_1sampResult(statistic=-2.337425583230524, pvalue=0.039801131233785536)\n",
      "H1 structural 3dshapes random  Ttest_1sampResult(statistic=-1.1583414675467145, pvalue=0.1555861948462528)\n",
      "H1 structural 3dshapes similar  Ttest_1sampResult(statistic=-0.45720123259772305, pvalue=0.33930142086135895)\n"
     ]
    }
   ],
   "source": [
    "# for h1-h3: these are point estimate comparisons: \n",
    "# i e different drift values smaller than pretrained reference value - how to compute that?\n",
    "# --> one sample t test\n",
    "h1_coco_random = np.array([-0.292, -2.356, 0.003, -4.312, -5.164])\n",
    "print(\"H1 structural COCO random \", stats.ttest_1samp(h1_coco_random, 0, alternative = \"less\"))\n",
    "# does not work since 1 sample\n",
    "# print(\"H1 structural COCO similar \", stats.ttest_1samp(np.array([-133.093]), -131.598, alternative = \"less\"))\n",
    "print(\"H1 structural 3dshapes random \", stats.ttest_1samp(np.array([-195.420, -196.811, -196.722, -195.495, -196.019]), -195.753, alternative = \"less\"))\n",
    "print(\"H1 structural 3dshapes similar \", stats.ttest_1samp(np.array([-198.189, -193.709, -199.014, -194.510 ]), -195.753, alternative = \"less\"))\n"
   ]
  },
  {
   "cell_type": "code",
   "execution_count": 18,
   "id": "aff241de",
   "metadata": {},
   "outputs": [
    {
     "name": "stdout",
     "output_type": "stream",
     "text": [
      "H2 semantic COCO random  Ttest_1sampResult(statistic=-3.4837091305048697, pvalue=0.012633353954304047)\n",
      "H2 semantic 3dshapes random  Ttest_1sampResult(statistic=1.0428897815177987, pvalue=0.8220600847875041)\n",
      "H2 semantic 3dshapes similar  Ttest_1sampResult(statistic=1.2409975332779901, pvalue=0.8485975927004942)\n"
     ]
    }
   ],
   "source": [
    "print(\"H2 semantic COCO random \", stats.ttest_1samp(np.array([-63.319, -65.533, -67.904, -71.819, -70.454]), -62.385, alternative = \"less\"))\n",
    "print(\"H2 semantic 3dshapes random \", stats.ttest_1samp(np.array([-147.938, -140.862, -144.301, -147.313, -137.456]), -145.638, alternative = \"less\"))\n",
    "print(\"H2 semantic 3dshapes similar \", stats.ttest_1samp(np.array([-140.786, -141.010, -146.280, -146.557]), -145.638, alternative = \"less\"))\n"
   ]
  },
  {
   "cell_type": "code",
   "execution_count": 16,
   "id": "83ff0173",
   "metadata": {},
   "outputs": [
    {
     "name": "stdout",
     "output_type": "stream",
     "text": [
      "H3 discrete overlaps COCO random  Ttest_1sampResult(statistic=-0.8468162073591484, pvalue=0.7776057930253427)\n",
      "H3 discrete overlaps 3dshapes random  Ttest_1sampResult(statistic=-4.171443500208143, pvalue=0.9929925865740266)\n",
      "H3 continuous overlaps COCO random  Ttest_1sampResult(statistic=-1.6329931618554518, pvalue=0.9110960958218894)\n",
      "H3 continuous overlaps 3dshapes random  Ttest_1sampResult(statistic=-1.8973665961010275, pvalue=0.9346824431231697)\n"
     ]
    }
   ],
   "source": [
    "print(\"H3 discrete overlaps COCO random \", stats.ttest_1samp(np.array([1.256, 1.173, 1.106, 1.197, 1.125]), 1.194, alternative = \"greater\"))\n",
    "print(\"H3 discrete overlaps 3dshapes random \", stats.ttest_1samp(np.array([5.294, 5.104, 4.968, 5.247, 5.2577]), 5.428, alternative = \"greater\"))\n",
    "\n",
    "print(\"H3 continuous overlaps COCO random \", stats.ttest_1samp(np.array([0.003, 0.004, 0.001, 0, 0.001]), 0.003, alternative = \"greater\"))\n",
    "print(\"H3 continuous overlaps 3dshapes random \", stats.ttest_1samp(np.array([-0.002, -0.006, 0.002, 0.001, -0.005]), 0.001, alternative = \"greater\"))\n"
   ]
  },
  {
   "cell_type": "code",
   "execution_count": null,
   "id": "fe7441c5",
   "metadata": {},
   "outputs": [],
   "source": [
    "# LR vs corr situation: are the samples really independent? i have by-dataset effect, but ir is not an RE because \n",
    "# this is a \"between-subjects\" set up, but then i have a by lambda_s RE -- paired samples t-test? "
   ]
  },
  {
   "cell_type": "code",
   "execution_count": 31,
   "id": "19167dc3",
   "metadata": {},
   "outputs": [
    {
     "name": "stdout",
     "output_type": "stream",
     "text": [
      "str drift coco random LinregressResult(slope=-4.680000000000007, intercept=-132.08219999999997, rvalue=-0.9551825389247692, pvalue=0.011312625552042429, stderr=0.8373675576869897, intercept_stderr=0.5127808108734205)\n",
      "sem drift coco random LinregressResult(slope=-8.222399999999993, intercept=-63.69460000000001, rvalue=-0.9341188019434876, pvalue=0.020097273214237706, stderr=1.8140872746370318, intercept_stderr=1.1108970429342249)\n",
      "str drift 3d random LinregressResult(slope=0.047199999999986635, intercept=-196.117, rvalue=0.02839318172224655, pvalue=0.9638535361864599, stderr=0.9593833575097516, intercept_stderr=0.5874999234042557)\n",
      "sem drift 3d random LinregressResult(slope=5.805200000000003, intercept=-146.47660000000002, rvalue=0.5185264523994801, pvalue=0.3707021338981439, stderr=5.526918229899911, intercept_stderr=3.3845323783352974)\n"
     ]
    }
   ],
   "source": [
    "# potentially rather LR on H 4?\n",
    "# str drift coco random\n",
    "print(\"str drift coco random\", stats.linregress([0, 0.25, 0.5, 0.75, 1], [-131.890, -133.954, -133.595, -135.910, -136.762]))\n",
    "print(\"sem drift coco random\", stats.linregress([0, 0.25, 0.5, 0.75, 1], [-63.319, -65.533, -67.904, -71.819, -70.454]))\n",
    "print(\"str drift 3d random\", stats.linregress([0, 0.25, 0.5, 0.75, 1], [-195.420, -196.811, -196.722, -195.495, -196.019]))\n",
    "print(\"sem drift 3d random\", stats.linregress([0, 0.25, 0.5, 0.75, 1], [-147.938, -140.862, -144.301, -147.313, -137.456]))\n"
   ]
  },
  {
   "cell_type": "code",
   "execution_count": 11,
   "id": "bac175e7",
   "metadata": {},
   "outputs": [
    {
     "name": "stdout",
     "output_type": "stream",
     "text": [
      "H6 COCO structural drift  Ttest_relResult(statistic=11.728813559321122, pvalue=0.027073662304366457)\n",
      "H6 COCO semantic drift  Ttest_relResult(statistic=1.8247978436657697, pvalue=0.15957223127353065)\n",
      "H6 3D structural drift  Ttest_relResult(statistic=-0.1555183946488356, pvalue=0.5491096427145371)\n",
      "H6 3D semantic drift  Ttest_relResult(statistic=3.7462806594290146, pvalue=0.08303098986428512)\n"
     ]
    }
   ],
   "source": [
    "# H 6: differences joint - fixed\n",
    "coco_sem_drift_joint = np.array([-62.385+71.819, -62.385+63.319])\n",
    "coco_sem_drift_fixed = np.array([-62.385+67.627, -62.385+62.095])\n",
    "coco_str_drift_joint = np.array([-131.598+135.910, -131.598+131.890])\n",
    "coco_str_drift_fixed = np.array([-131.598+134.408, -131.598+130.624])\n",
    "print(\"H6 COCO structural drift \", stats.ttest_rel(coco_str_drift_joint, coco_str_drift_fixed, alternative=\"greater\"))\n",
    "print(\"H6 COCO semantic drift \", stats.ttest_rel(coco_sem_drift_joint, coco_sem_drift_fixed, alternative=\"greater\"))\n",
    "\n",
    "shapes_sem_drift_joint = np.array([-145.638+147.313, -145.638+147.938])\n",
    "shapes_sem_drift_fixed = np.array([-145.638+140.483, -145.638+136.134])\n",
    "shapes_str_drift_joint = np.array([-195.753+195.495, -195.753+195.420])\n",
    "shapes_str_drift_fixed = np.array([-195.753+194.990, -195.753+196.111])\n",
    "print(\"H6 3D structural drift \", stats.ttest_rel(shapes_str_drift_joint, shapes_str_drift_fixed, alternative=\"greater\"))\n",
    "print(\"H6 3D semantic drift \", stats.ttest_rel(shapes_sem_drift_joint, shapes_sem_drift_fixed, alternative=\"greater\"))\n"
   ]
  },
  {
   "cell_type": "code",
   "execution_count": 29,
   "id": "6caa46b0",
   "metadata": {},
   "outputs": [
    {
     "data": {
      "text/plain": [
       "Ttest_indResult(statistic=2.415419314618409, pvalue=0.9634377406612631)"
      ]
     },
     "execution_count": 29,
     "metadata": {},
     "output_type": "execute_result"
    }
   ],
   "source": [
    "# H 10\n",
    "mixed_diffs = np.array([3.623, -0.1, 5.190])\n",
    "exh_diffs = np.array([0.255, -2.044, -2.299])\n",
    "stats.ttest_ind(mixed_diffs, exh_diffs, equal_var=True, alternative=\"less\")"
   ]
  },
  {
   "cell_type": "code",
   "execution_count": 4,
   "id": "54bf931e",
   "metadata": {},
   "outputs": [
    {
     "name": "stdout",
     "output_type": "stream",
     "text": [
      "str drift coco random (-0.9551825389247692, 0.011312625552042432)\n",
      "sem drift coco random (-0.9341188019434876, 0.02009727321423773)\n",
      "str drift 3d random (0.02839318172224653, 0.9638535361864603)\n",
      "sem drift 3d random (0.51852645239948, 0.3707021338981443)\n"
     ]
    }
   ],
   "source": [
    "# H4 correlation w p value\n",
    "print(\"str drift coco random\", stats.pearsonr([0, 0.25, 0.5, 0.75, 1], [-131.890, -133.954, -133.595, -135.910, -136.762]))\n",
    "print(\"sem drift coco random\", stats.pearsonr([0, 0.25, 0.5, 0.75, 1], [-63.319, -65.533, -67.904, -71.819, -70.454]))\n",
    "print(\"str drift 3d random\", stats.pearsonr([0, 0.25, 0.5, 0.75, 1], [-195.420, -196.811, -196.722, -195.495, -196.019]))\n",
    "print(\"sem drift 3d random\", stats.pearsonr([0, 0.25, 0.5, 0.75, 1], [-147.938, -140.862, -144.301, -147.313, -137.456]))\n"
   ]
  },
  {
   "cell_type": "code",
   "execution_count": null,
   "id": "2b294da7",
   "metadata": {},
   "outputs": [],
   "source": []
  }
 ],
 "metadata": {
  "kernelspec": {
   "display_name": "msc-thesis",
   "language": "python",
   "name": "msc-thesis"
  },
  "language_info": {
   "codemirror_mode": {
    "name": "ipython",
    "version": 3
   },
   "file_extension": ".py",
   "mimetype": "text/x-python",
   "name": "python",
   "nbconvert_exporter": "python",
   "pygments_lexer": "ipython3",
   "version": "3.7.11"
  }
 },
 "nbformat": 4,
 "nbformat_minor": 5
}
